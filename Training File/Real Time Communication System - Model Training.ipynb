{
 "cells": [
  {
   "cell_type": "markdown",
   "id": "659ba033",
   "metadata": {},
   "source": [
    "# Image Preprocessing"
   ]
  },
  {
   "cell_type": "code",
   "execution_count": 1,
   "id": "233c0ffc",
   "metadata": {},
   "outputs": [],
   "source": [
    "# Importing Libraries\n",
    "\n",
    "from tensorflow.keras.preprocessing.image import ImageDataGenerator"
   ]
  },
  {
   "cell_type": "code",
   "execution_count": 2,
   "id": "9025b545",
   "metadata": {},
   "outputs": [],
   "source": [
    "# Image Augmentation\n",
    "\n",
    "train_datagen = ImageDataGenerator(rescale = 1./255, shear_range = 0.2, zoom_range = 0.2, horizontal_flip = True)\n",
    "test_datagen = ImageDataGenerator(rescale = 1./255)"
   ]
  },
  {
   "cell_type": "code",
   "execution_count": 3,
   "id": "0c862f6f",
   "metadata": {},
   "outputs": [
    {
     "name": "stdout",
     "output_type": "stream",
     "text": [
      "Found 15750 images belonging to 9 classes.\n",
      "Found 2250 images belonging to 9 classes.\n"
     ]
    }
   ],
   "source": [
    "# Loading train and test set\n",
    "\n",
    "X_train = train_datagen.flow_from_directory(r\"D:\\Maheshfiles\\Studies\\Smart Bridge\\AI-ML-DL Project\\Dataset\\training_set\", target_size = (64, 64), batch_size = 32, class_mode = 'categorical')\n",
    "X_test = test_datagen.flow_from_directory(r\"D:\\Maheshfiles\\Studies\\Smart Bridge\\AI-ML-DL Project\\Dataset\\test_set\", target_size = (64, 64), batch_size = 32, class_mode = 'categorical')"
   ]
  },
  {
   "cell_type": "code",
   "execution_count": 4,
   "id": "8f9a8b85",
   "metadata": {},
   "outputs": [
    {
     "data": {
      "text/plain": [
       "{'A': 0, 'B': 1, 'C': 2, 'D': 3, 'E': 4, 'F': 5, 'G': 6, 'H': 7, 'I': 8}"
      ]
     },
     "execution_count": 4,
     "metadata": {},
     "output_type": "execute_result"
    }
   ],
   "source": [
    "# checking indices\n",
    "\n",
    "X_train.class_indices"
   ]
  },
  {
   "cell_type": "markdown",
   "id": "46015d36",
   "metadata": {},
   "source": [
    "# Model Building"
   ]
  },
  {
   "cell_type": "code",
   "execution_count": 5,
   "id": "34553f83",
   "metadata": {},
   "outputs": [],
   "source": [
    "# Importing Libraries\n",
    "\n",
    "from tensorflow.keras.models import Sequential\n",
    "from tensorflow.keras.layers import Dense\n",
    "from tensorflow.keras.layers import Convolution2D, MaxPooling2D, Flatten"
   ]
  },
  {
   "cell_type": "code",
   "execution_count": 6,
   "id": "f4a960e0",
   "metadata": {},
   "outputs": [],
   "source": [
    "# Initializing the Model\n",
    "\n",
    "model = Sequential()"
   ]
  },
  {
   "cell_type": "code",
   "execution_count": 7,
   "id": "91767533",
   "metadata": {},
   "outputs": [],
   "source": [
    "# Adding Convolution Layer\n",
    "\n",
    "model.add(Convolution2D((32), (3,3), input_shape = (64, 64, 3), activation = 'relu'))"
   ]
  },
  {
   "cell_type": "code",
   "execution_count": 8,
   "id": "757d4e83",
   "metadata": {},
   "outputs": [],
   "source": [
    "# Adding Pooling Layer\n",
    "\n",
    "model.add(MaxPooling2D(pool_size = (2, 2)))"
   ]
  },
  {
   "cell_type": "code",
   "execution_count": 9,
   "id": "f6fafd32",
   "metadata": {},
   "outputs": [],
   "source": [
    "# Adding Flatten Layer\n",
    "\n",
    "model.add(Flatten())"
   ]
  },
  {
   "cell_type": "code",
   "execution_count": 10,
   "id": "16873b74",
   "metadata": {},
   "outputs": [],
   "source": [
    "# Adding Hidden Layer\n",
    "\n",
    "model.add(Dense(units = 512, kernel_initializer = 'random_uniform', activation = 'relu'))"
   ]
  },
  {
   "cell_type": "code",
   "execution_count": 11,
   "id": "d9f19dea",
   "metadata": {},
   "outputs": [],
   "source": [
    "# Adding Output Layer\n",
    "\n",
    "model.add(Dense(units = 9, kernel_initializer = 'random_uniform', activation = 'softmax'))"
   ]
  },
  {
   "cell_type": "code",
   "execution_count": 12,
   "id": "a19923fe",
   "metadata": {},
   "outputs": [],
   "source": [
    "# Compile the model\n",
    "\n",
    "model.compile(loss = 'categorical_crossentropy', optimizer = 'adam', metrics = ['accuracy'])"
   ]
  },
  {
   "cell_type": "code",
   "execution_count": 14,
   "id": "5e877d47",
   "metadata": {},
   "outputs": [
    {
     "name": "stderr",
     "output_type": "stream",
     "text": [
      "C:\\Users\\mahes\\AppData\\Local\\Temp/ipykernel_4216/1270027362.py:3: UserWarning: `Model.fit_generator` is deprecated and will be removed in a future version. Please use `Model.fit`, which supports generators.\n",
      "  model.fit_generator(X_train, steps_per_epoch = 24, epochs = 10, validation_data = X_test, validation_steps = 40)\n"
     ]
    },
    {
     "name": "stdout",
     "output_type": "stream",
     "text": [
      "Epoch 1/10\n",
      "24/24 [==============================] - 19s 771ms/step - loss: 1.8463 - accuracy: 0.4167 - val_loss: 0.8370 - val_accuracy: 0.7492\n",
      "Epoch 2/10\n",
      "24/24 [==============================] - 14s 581ms/step - loss: 0.6605 - accuracy: 0.7904 - val_loss: 0.4460 - val_accuracy: 0.8898\n",
      "Epoch 3/10\n",
      "24/24 [==============================] - 12s 498ms/step - loss: 0.4137 - accuracy: 0.8802 - val_loss: 0.3629 - val_accuracy: 0.8906\n",
      "Epoch 4/10\n",
      "24/24 [==============================] - 11s 458ms/step - loss: 0.2952 - accuracy: 0.9049 - val_loss: 0.2596 - val_accuracy: 0.9148\n",
      "Epoch 5/10\n",
      "24/24 [==============================] - 10s 427ms/step - loss: 0.2433 - accuracy: 0.9286 - val_loss: 0.2217 - val_accuracy: 0.9438\n",
      "Epoch 6/10\n",
      "24/24 [==============================] - 10s 429ms/step - loss: 0.1746 - accuracy: 0.9453 - val_loss: 0.2339 - val_accuracy: 0.9453\n",
      "Epoch 7/10\n",
      "24/24 [==============================] - 10s 407ms/step - loss: 0.1351 - accuracy: 0.9596 - val_loss: 0.2313 - val_accuracy: 0.9469\n",
      "Epoch 8/10\n",
      "24/24 [==============================] - 10s 398ms/step - loss: 0.1496 - accuracy: 0.9583 - val_loss: 0.1741 - val_accuracy: 0.9531\n",
      "Epoch 9/10\n",
      "24/24 [==============================] - 9s 394ms/step - loss: 0.1459 - accuracy: 0.9609 - val_loss: 0.1761 - val_accuracy: 0.9609\n",
      "Epoch 10/10\n",
      "24/24 [==============================] - 9s 383ms/step - loss: 0.1013 - accuracy: 0.9688 - val_loss: 0.1677 - val_accuracy: 0.9688\n"
     ]
    },
    {
     "data": {
      "text/plain": [
       "<keras.callbacks.History at 0x24a2dbb1d90>"
      ]
     },
     "execution_count": 14,
     "metadata": {},
     "output_type": "execute_result"
    }
   ],
   "source": [
    "# Fiiting the model\n",
    "\n",
    "model.fit_generator(X_train, steps_per_epoch = 24, epochs = 10, validation_data = X_test, validation_steps = 40)"
   ]
  },
  {
   "cell_type": "code",
   "execution_count": 15,
   "id": "be5efb4d",
   "metadata": {},
   "outputs": [],
   "source": [
    "# Saving the model\n",
    "\n",
    "model.save('aslpng1.h5')"
   ]
  }
 ],
 "metadata": {
  "kernelspec": {
   "display_name": "Python 3 (ipykernel)",
   "language": "python",
   "name": "python3"
  },
  "language_info": {
   "codemirror_mode": {
    "name": "ipython",
    "version": 3
   },
   "file_extension": ".py",
   "mimetype": "text/x-python",
   "name": "python",
   "nbconvert_exporter": "python",
   "pygments_lexer": "ipython3",
   "version": "3.9.7"
  }
 },
 "nbformat": 4,
 "nbformat_minor": 5
}
